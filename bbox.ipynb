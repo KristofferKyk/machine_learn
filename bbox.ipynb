{
 "cells": [
  {
   "cell_type": "code",
   "execution_count": 14,
   "metadata": {},
   "outputs": [
    {
     "ename": "SyntaxError",
     "evalue": "invalid syntax (<ipython-input-14-2d1ead0bb051>, line 1)",
     "output_type": "error",
     "traceback": [
      "\u001b[1;36m  File \u001b[1;32m\"<ipython-input-14-2d1ead0bb051>\"\u001b[1;36m, line \u001b[1;32m1\u001b[0m\n\u001b[1;33m    import tensorflow-gpu as tf\u001b[0m\n\u001b[1;37m                     ^\u001b[0m\n\u001b[1;31mSyntaxError\u001b[0m\u001b[1;31m:\u001b[0m invalid syntax\n"
     ]
    }
   ],
   "source": [
    "import tensorflow-gpu as tf\n"
   ]
  },
  {
   "cell_type": "code",
   "execution_count": 2,
   "metadata": {},
   "outputs": [
    {
     "data": {
      "text/html": [
       "<div>\n",
       "<style scoped>\n",
       "    .dataframe tbody tr th:only-of-type {\n",
       "        vertical-align: middle;\n",
       "    }\n",
       "\n",
       "    .dataframe tbody tr th {\n",
       "        vertical-align: top;\n",
       "    }\n",
       "\n",
       "    .dataframe thead th {\n",
       "        text-align: right;\n",
       "    }\n",
       "</style>\n",
       "<table border=\"1\" class=\"dataframe\">\n",
       "  <thead>\n",
       "    <tr style=\"text-align: right;\">\n",
       "      <th></th>\n",
       "      <th>boxid</th>\n",
       "      <th>label</th>\n",
       "      <th>class_</th>\n",
       "    </tr>\n",
       "  </thead>\n",
       "  <tbody>\n",
       "    <tr>\n",
       "      <th>0</th>\n",
       "      <td>40498</td>\n",
       "      <td>1</td>\n",
       "      <td>B48</td>\n",
       "    </tr>\n",
       "    <tr>\n",
       "      <th>1</th>\n",
       "      <td>24303</td>\n",
       "      <td>1</td>\n",
       "      <td>B48</td>\n",
       "    </tr>\n",
       "    <tr>\n",
       "      <th>2</th>\n",
       "      <td>48328</td>\n",
       "      <td>1</td>\n",
       "      <td>B48</td>\n",
       "    </tr>\n",
       "    <tr>\n",
       "      <th>3</th>\n",
       "      <td>13981</td>\n",
       "      <td>1</td>\n",
       "      <td>B48</td>\n",
       "    </tr>\n",
       "    <tr>\n",
       "      <th>4</th>\n",
       "      <td>19874</td>\n",
       "      <td>1</td>\n",
       "      <td>B48</td>\n",
       "    </tr>\n",
       "  </tbody>\n",
       "</table>\n",
       "</div>"
      ],
      "text/plain": [
       "   boxid  label class_\n",
       "0  40498      1    B48\n",
       "1  24303      1    B48\n",
       "2  48328      1    B48\n",
       "3  13981      1    B48\n",
       "4  19874      1    B48"
      ]
     },
     "execution_count": 2,
     "metadata": {},
     "output_type": "execute_result"
    }
   ],
   "source": [
    "import pandas as pd\n",
    "import numpy as np\n",
    "import os\n",
    "import shutil\n",
    "filename = open(r'C:\\Users\\dolga\\Desktop\\Machine Learning\\images_labelling.csv')\n",
    "label=pd.read_csv(filename)\n",
    "label.head()"
   ]
  },
  {
   "cell_type": "code",
   "execution_count": 49,
   "metadata": {},
   "outputs": [
    {
     "name": "stdout",
     "output_type": "stream",
     "text": [
      "2014    60771\n",
      "2238      313\n",
      "485     24415\n",
      "2177    53926\n",
      "3534    63193\n",
      "        ...  \n",
      "1130    52545\n",
      "1294    32319\n",
      "860     21169\n",
      "3507      736\n",
      "3174    53782\n",
      "Name: boxid, Length: 3000, dtype: int64 2148    26469\n",
      "1044     6188\n",
      "3318    43999\n",
      "439      9812\n",
      "3515    41092\n",
      "        ...  \n",
      "1446    29180\n",
      "2403    28393\n",
      "2895    12852\n",
      "612     60465\n",
      "2677    15342\n",
      "Name: boxid, Length: 750, dtype: int64\n"
     ]
    }
   ],
   "source": [
    "from sklearn.model_selection import train_test_split\n",
    "X=label['boxid']\n",
    "y=label['class_']\n",
    "X_train, X_test, y_train, y_test = train_test_split(X, y, test_size=0.2, random_state=42)\n",
    "print(X_train,X_test)"
   ]
  },
  {
   "cell_type": "code",
   "execution_count": 41,
   "metadata": {},
   "outputs": [],
   "source": [
    "#Для создания test выборки\n",
    "'''\n",
    "for i in X_test:\n",
    "    path=r'C:\\\\Users\\\\dolga\\\\Desktop\\\\Machine Learning\\\\images\\\\'+str(i)+'.png'\n",
    "    path1=r'C:\\\\Users\\\\dolga\\\\Desktop\\\\Machine Learning\\\\test\\\\'+str(i)+'.png'\n",
    "    if os.path.exists(path)==True:\n",
    "        shutil.copyfile(path, path1)\n",
    "        os.remove(path)\n",
    "'''"
   ]
  },
  {
   "cell_type": "code",
   "execution_count": 30,
   "metadata": {},
   "outputs": [
    {
     "ename": "ValueError",
     "evalue": "Can only compare identically-labeled Series objects",
     "output_type": "error",
     "traceback": [
      "\u001b[1;31m---------------------------------------------------------------------------\u001b[0m",
      "\u001b[1;31mValueError\u001b[0m                                Traceback (most recent call last)",
      "\u001b[1;32m<ipython-input-30-ba855df699ed>\u001b[0m in \u001b[0;36m<module>\u001b[1;34m()\u001b[0m\n\u001b[1;32m----> 1\u001b[1;33m \u001b[0mX_test\u001b[0m\u001b[1;33m=\u001b[0m\u001b[0mlabel\u001b[0m\u001b[1;33m.\u001b[0m\u001b[0mdrop\u001b[0m\u001b[1;33m(\u001b[0m\u001b[0mlabel\u001b[0m\u001b[1;33m[\u001b[0m\u001b[1;34m'boxid'\u001b[0m\u001b[1;33m]\u001b[0m \u001b[1;33m!=\u001b[0m \u001b[0mX_train\u001b[0m\u001b[1;33m)\u001b[0m\u001b[1;33m\u001b[0m\u001b[0m\n\u001b[0m",
      "\u001b[1;32m~\\AppData\\Local\\Continuum\\anaconda3\\lib\\site-packages\\pandas\\core\\ops\\__init__.py\u001b[0m in \u001b[0;36mwrapper\u001b[1;34m(self, other, axis)\u001b[0m\n\u001b[0;32m   1140\u001b[0m \u001b[1;33m\u001b[0m\u001b[0m\n\u001b[0;32m   1141\u001b[0m         \u001b[1;32melif\u001b[0m \u001b[0misinstance\u001b[0m\u001b[1;33m(\u001b[0m\u001b[0mother\u001b[0m\u001b[1;33m,\u001b[0m \u001b[0mABCSeries\u001b[0m\u001b[1;33m)\u001b[0m \u001b[1;32mand\u001b[0m \u001b[1;32mnot\u001b[0m \u001b[0mself\u001b[0m\u001b[1;33m.\u001b[0m\u001b[0m_indexed_same\u001b[0m\u001b[1;33m(\u001b[0m\u001b[0mother\u001b[0m\u001b[1;33m)\u001b[0m\u001b[1;33m:\u001b[0m\u001b[1;33m\u001b[0m\u001b[0m\n\u001b[1;32m-> 1142\u001b[1;33m             \u001b[1;32mraise\u001b[0m \u001b[0mValueError\u001b[0m\u001b[1;33m(\u001b[0m\u001b[1;34m\"Can only compare identically-labeled \"\u001b[0m \u001b[1;34m\"Series objects\"\u001b[0m\u001b[1;33m)\u001b[0m\u001b[1;33m\u001b[0m\u001b[0m\n\u001b[0m\u001b[0;32m   1143\u001b[0m \u001b[1;33m\u001b[0m\u001b[0m\n\u001b[0;32m   1144\u001b[0m         \u001b[1;32melif\u001b[0m \u001b[0mis_categorical_dtype\u001b[0m\u001b[1;33m(\u001b[0m\u001b[0mself\u001b[0m\u001b[1;33m)\u001b[0m\u001b[1;33m:\u001b[0m\u001b[1;33m\u001b[0m\u001b[0m\n",
      "\u001b[1;31mValueError\u001b[0m: Can only compare identically-labeled Series objects"
     ]
    }
   ],
   "source": [
    "X_test=label.drop(label['boxid'] != X_train)"
   ]
  },
  {
   "cell_type": "code",
   "execution_count": null,
   "metadata": {},
   "outputs": [],
   "source": [
    "from PIL import Image\n",
    "\n",
    "label1=label\n",
    "label1['class_'].unique()\n",
    "for i in X_test.index:\n",
    "    X1_train=label1.drop(i)\n",
    "    label1=X1_train\n",
    "label1=label\n",
    "for i in X_train.index:\n",
    "    X1_test=label1.drop(i)\n",
    "    label1=X1_test\n",
    "\n",
    "X1_train['boxid']=X1_train['boxid'].apply(lambda x: str(x)+'.png')\n",
    "X1_test['boxid']=X1_test['boxid'].apply(lambda x: str(x)+'.png')\n",
    "w=[]\n",
    "h=[]\n",
    "for i in X1_test['boxid']:\n",
    "    try:\n",
    "        im = Image.open(r'C:\\\\Users\\\\dolga\\\\Desktop\\\\Machine Learning\\\\test\\\\'+str(i))\n",
    "        width = im.size[0]\n",
    "        height=im.size[1]\n",
    "        w.append(width)\n",
    "        h.append(height)\n",
    "    except:\n",
    "        print('c')\n",
    "\n",
    "X1_test['weight']=w\n",
    "X1_test['height']=h\n",
    "X1_test['xmin']=0\n",
    "X1_test['ymin']=0\n",
    "X1_test['xmax']=w\n",
    "X1_test['ymax']=h\n",
    "print(X1_test)\n",
    "w=[]\n",
    "h=[]\n",
    "for i in X1_train['boxid']:\n",
    "    try:\n",
    "        im = Image.open(r'C:\\\\Users\\\\dolga\\\\Desktop\\\\Machine Learning\\\\train\\\\'+str(i))\n",
    "        width= im.size[0]\n",
    "        height=im.size[1]\n",
    "        w.append(width)\n",
    "        h.append(height)\n",
    "    except:\n",
    "        print('c')\n",
    "X1_train['width']=w\n",
    "X1_train['height']=h\n",
    "X1_train['xmin']=0\n",
    "X1_train['ymin']=0\n",
    "X1_train['xmax']=w\n",
    "X1_train['ymax']=h\n",
    "print(X1_train)\n",
    "X1_train.to_csv(r'C:\\Users\\dolga\\Desktop\\Machine Learning\\train.csv')\n",
    "X1_test.to_csv(r'C:\\Users\\dolga\\Desktop\\Machine Learning\\test.csv')"
   ]
  },
  {
   "cell_type": "code",
   "execution_count": 4,
   "metadata": {},
   "outputs": [
    {
     "name": "stdout",
     "output_type": "stream",
     "text": [
      "[ 1 10  5 15  0 21 11 19  4  8 24 12  2 16  6  9 20 13 18 17 22 23 14  7\n",
      "  3]\n"
     ]
    }
   ],
   "source": [
    "a=label['label'].unique()\n",
    "print(a)"
   ]
  },
  {
   "cell_type": "code",
   "execution_count": 5,
   "metadata": {},
   "outputs": [
    {
     "name": "stdout",
     "output_type": "stream",
     "text": [
      "['B48' 'B10' 'B25' 'A15' 'B5' 'A57' 'B8' 'A5' 'A11' 'C-' 'other' 'A98'\n",
      " 'B4' 'A19' 'B22' 'B34' 'D-' 'A55' 'A33' 'A20' 'B44' 'A31' 'B27' 'A8' 'B1']\n"
     ]
    }
   ],
   "source": [
    "a=label['class_'].unique()\n",
    "print(a)"
   ]
  },
  {
   "cell_type": "code",
   "execution_count": null,
   "metadata": {},
   "outputs": [],
   "source": []
  }
 ],
 "metadata": {
  "kernelspec": {
   "display_name": "Python 3",
   "language": "python",
   "name": "python3"
  },
  "language_info": {
   "codemirror_mode": {
    "name": "ipython",
    "version": 3
   },
   "file_extension": ".py",
   "mimetype": "text/x-python",
   "name": "python",
   "nbconvert_exporter": "python",
   "pygments_lexer": "ipython3",
   "version": "3.6.4"
  }
 },
 "nbformat": 4,
 "nbformat_minor": 2
}
